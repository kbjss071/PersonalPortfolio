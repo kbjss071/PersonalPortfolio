{
 "cells": [
  {
   "cell_type": "code",
   "execution_count": 3,
   "metadata": {},
   "outputs": [],
   "source": [
    "import pandas as pd\n",
    "import numpy as np\n",
    "import matplotlib.pyplot as plt\n",
    "import matplotlib\n",
    "\n",
    "fire_df = pd.read_excel ('Fire Incurred.xlsx')\n",
    "liab_df = pd.read_excel ('Liability Incurred.xlsx')\n",
    "other_df = pd.read_excel ('Other Incurred.xlsx')\n",
    "water_df = pd.read_excel('Water Incurred.xlsx')\n",
    "wind_df = pd.read_excel('Wind Incurred.xlsx')"
   ]
  },
  {
   "cell_type": "code",
   "execution_count": 4,
   "metadata": {},
   "outputs": [
    {
     "name": "stdout",
     "output_type": "stream",
     "text": [
      "4822\n",
      "1980\n"
     ]
    }
   ],
   "source": [
    "#The number of claims calculated\n",
    "\n",
    "print (len(fire_df) + len(liab_df) +len(other_df)+len(water_df)+len(wind_df))\n",
    "print (len(water_df))"
   ]
  },
  {
   "cell_type": "code",
   "execution_count": 52,
   "metadata": {},
   "outputs": [
    {
     "data": {
      "text/html": [
       "<div>\n",
       "<style scoped>\n",
       "    .dataframe tbody tr th:only-of-type {\n",
       "        vertical-align: middle;\n",
       "    }\n",
       "\n",
       "    .dataframe tbody tr th {\n",
       "        vertical-align: top;\n",
       "    }\n",
       "\n",
       "    .dataframe thead th {\n",
       "        text-align: right;\n",
       "    }\n",
       "</style>\n",
       "<table border=\"1\" class=\"dataframe\">\n",
       "  <thead>\n",
       "    <tr style=\"text-align: right;\">\n",
       "      <th></th>\n",
       "      <th>Loss Date</th>\n",
       "      <th>Location of Loss</th>\n",
       "      <th>Loss Reserve</th>\n",
       "      <th>LAE Reserve</th>\n",
       "      <th>Total Reserves</th>\n",
       "      <th>Previous Reserves</th>\n",
       "      <th>Sedgwick Fees</th>\n",
       "      <th>Loss Paid</th>\n",
       "      <th>LAE Paid</th>\n",
       "      <th>Recoveries</th>\n",
       "      <th>...</th>\n",
       "      <th>This month Recoveries</th>\n",
       "      <th>Total LAE Paid</th>\n",
       "      <th>Net Loss Paid</th>\n",
       "      <th>This moth Total Paid</th>\n",
       "      <th>Total Paid</th>\n",
       "      <th>Deductible</th>\n",
       "      <th>Incurred</th>\n",
       "      <th>This month incurred total for Summary risk(total reserve + paid)</th>\n",
       "      <th>Loss Type</th>\n",
       "      <th>Description</th>\n",
       "    </tr>\n",
       "  </thead>\n",
       "  <tbody>\n",
       "    <tr>\n",
       "      <th>0</th>\n",
       "      <td>2012-10-29</td>\n",
       "      <td>163-09 22ND AVE, WHITESTONE, NY 11357 - JIMMY ...</td>\n",
       "      <td>0.0</td>\n",
       "      <td>0.0</td>\n",
       "      <td>0.0</td>\n",
       "      <td>0.0</td>\n",
       "      <td>449.0</td>\n",
       "      <td>0.0</td>\n",
       "      <td>406.05</td>\n",
       "      <td>0.0</td>\n",
       "      <td>...</td>\n",
       "      <td>0</td>\n",
       "      <td>0.0</td>\n",
       "      <td>0</td>\n",
       "      <td>0.0</td>\n",
       "      <td>855.05</td>\n",
       "      <td>-1.0</td>\n",
       "      <td>855.05</td>\n",
       "      <td>0.0</td>\n",
       "      <td>PROPERTY DAMAGE - GL</td>\n",
       "      <td>Hurrican Sandy - Insured tree fell on roof of ...</td>\n",
       "    </tr>\n",
       "    <tr>\n",
       "      <th>1</th>\n",
       "      <td>2012-10-29</td>\n",
       "      <td>40-31 203TH ST., BAYSIDE, NY 11361</td>\n",
       "      <td>0.0</td>\n",
       "      <td>0.0</td>\n",
       "      <td>0.0</td>\n",
       "      <td>0.0</td>\n",
       "      <td>449.0</td>\n",
       "      <td>0.0</td>\n",
       "      <td>999.15</td>\n",
       "      <td>0.0</td>\n",
       "      <td>...</td>\n",
       "      <td>0</td>\n",
       "      <td>0.0</td>\n",
       "      <td>0</td>\n",
       "      <td>0.0</td>\n",
       "      <td>1448.15</td>\n",
       "      <td>-1.0</td>\n",
       "      <td>1448.15</td>\n",
       "      <td>0.0</td>\n",
       "      <td>PROPERTY DAMAGE - GL</td>\n",
       "      <td>CAT 90 - Tree fell on insured`s roof.</td>\n",
       "    </tr>\n",
       "    <tr>\n",
       "      <th>2</th>\n",
       "      <td>2012-11-07</td>\n",
       "      <td>43-56 171ST, FLUSHING, NY</td>\n",
       "      <td>0.0</td>\n",
       "      <td>0.0</td>\n",
       "      <td>0.0</td>\n",
       "      <td>0.0</td>\n",
       "      <td>797.0</td>\n",
       "      <td>0.0</td>\n",
       "      <td>410.65</td>\n",
       "      <td>0.0</td>\n",
       "      <td>...</td>\n",
       "      <td>0</td>\n",
       "      <td>0.0</td>\n",
       "      <td>0</td>\n",
       "      <td>0.0</td>\n",
       "      <td>1207.65</td>\n",
       "      <td>-1.0</td>\n",
       "      <td>1207.65</td>\n",
       "      <td>0.0</td>\n",
       "      <td>BODILY INJURY - GL</td>\n",
       "      <td>CLMT ALLEGES A TREE FELL DUE TO HURRICANE AND ...</td>\n",
       "    </tr>\n",
       "    <tr>\n",
       "      <th>3</th>\n",
       "      <td>2013-01-24</td>\n",
       "      <td>38-09 111TH STREET, NY</td>\n",
       "      <td>0.0</td>\n",
       "      <td>0.0</td>\n",
       "      <td>0.0</td>\n",
       "      <td>0.0</td>\n",
       "      <td>797.0</td>\n",
       "      <td>0.0</td>\n",
       "      <td>12322.74</td>\n",
       "      <td>0.0</td>\n",
       "      <td>...</td>\n",
       "      <td>0</td>\n",
       "      <td>0.0</td>\n",
       "      <td>0</td>\n",
       "      <td>0.0</td>\n",
       "      <td>13119.74</td>\n",
       "      <td>-1.0</td>\n",
       "      <td>13119.74</td>\n",
       "      <td>0.0</td>\n",
       "      <td>BODILY INJURY - GL</td>\n",
       "      <td>CLMT ALLEGEDLY SLIPPED AND FELL ON SIDEWALK AN...</td>\n",
       "    </tr>\n",
       "    <tr>\n",
       "      <th>4</th>\n",
       "      <td>2013-04-06</td>\n",
       "      <td>2784 SAMPSON AVENUE, BRONX, NY</td>\n",
       "      <td>0.0</td>\n",
       "      <td>0.0</td>\n",
       "      <td>0.0</td>\n",
       "      <td>0.0</td>\n",
       "      <td>797.0</td>\n",
       "      <td>25000.0</td>\n",
       "      <td>9473.99</td>\n",
       "      <td>0.0</td>\n",
       "      <td>...</td>\n",
       "      <td>0</td>\n",
       "      <td>0.0</td>\n",
       "      <td>0</td>\n",
       "      <td>0.0</td>\n",
       "      <td>35270.99</td>\n",
       "      <td>-1.0</td>\n",
       "      <td>35270.99</td>\n",
       "      <td>0.0</td>\n",
       "      <td>BODILY INJURY - GL</td>\n",
       "      <td>CLMT ALLEGEDLY TRIPPED AND FELL ON SIDEWALK AN...</td>\n",
       "    </tr>\n",
       "    <tr>\n",
       "      <th>...</th>\n",
       "      <td>...</td>\n",
       "      <td>...</td>\n",
       "      <td>...</td>\n",
       "      <td>...</td>\n",
       "      <td>...</td>\n",
       "      <td>...</td>\n",
       "      <td>...</td>\n",
       "      <td>...</td>\n",
       "      <td>...</td>\n",
       "      <td>...</td>\n",
       "      <td>...</td>\n",
       "      <td>...</td>\n",
       "      <td>...</td>\n",
       "      <td>...</td>\n",
       "      <td>...</td>\n",
       "      <td>...</td>\n",
       "      <td>...</td>\n",
       "      <td>...</td>\n",
       "      <td>...</td>\n",
       "      <td>...</td>\n",
       "      <td>...</td>\n",
       "    </tr>\n",
       "    <tr>\n",
       "      <th>457</th>\n",
       "      <td>2020-09-23</td>\n",
       "      <td>9219 95th Street Woodhaven NY</td>\n",
       "      <td>42000.0</td>\n",
       "      <td>12000.0</td>\n",
       "      <td>54000.0</td>\n",
       "      <td>0.0</td>\n",
       "      <td>0.0</td>\n",
       "      <td>0.0</td>\n",
       "      <td>0.00</td>\n",
       "      <td>0.0</td>\n",
       "      <td>...</td>\n",
       "      <td>0</td>\n",
       "      <td>0.0</td>\n",
       "      <td>0</td>\n",
       "      <td>0.0</td>\n",
       "      <td>0.00</td>\n",
       "      <td>0.0</td>\n",
       "      <td>54000.00</td>\n",
       "      <td>54000.0</td>\n",
       "      <td>General Liability Other</td>\n",
       "      <td>Insured's  tenant received  New York County Su...</td>\n",
       "    </tr>\n",
       "    <tr>\n",
       "      <th>458</th>\n",
       "      <td>2019-07-06</td>\n",
       "      <td>12311 Inwood St Jamaica NY</td>\n",
       "      <td>42000.0</td>\n",
       "      <td>2000.0</td>\n",
       "      <td>44000.0</td>\n",
       "      <td>0.0</td>\n",
       "      <td>0.0</td>\n",
       "      <td>0.0</td>\n",
       "      <td>0.00</td>\n",
       "      <td>0.0</td>\n",
       "      <td>...</td>\n",
       "      <td>0</td>\n",
       "      <td>0.0</td>\n",
       "      <td>0</td>\n",
       "      <td>0.0</td>\n",
       "      <td>0.00</td>\n",
       "      <td>0.0</td>\n",
       "      <td>44000.00</td>\n",
       "      <td>44000.0</td>\n",
       "      <td>General Liability Other</td>\n",
       "      <td>Claimant alleges they were attacked by dog tha...</td>\n",
       "    </tr>\n",
       "    <tr>\n",
       "      <th>459</th>\n",
       "      <td>2020-01-03</td>\n",
       "      <td>7227 Calanmus Aenue Woodside NY</td>\n",
       "      <td>42000.0</td>\n",
       "      <td>2000.0</td>\n",
       "      <td>44000.0</td>\n",
       "      <td>0.0</td>\n",
       "      <td>0.0</td>\n",
       "      <td>0.0</td>\n",
       "      <td>0.00</td>\n",
       "      <td>0.0</td>\n",
       "      <td>...</td>\n",
       "      <td>0</td>\n",
       "      <td>0.0</td>\n",
       "      <td>0</td>\n",
       "      <td>0.0</td>\n",
       "      <td>0.00</td>\n",
       "      <td>0.0</td>\n",
       "      <td>44000.00</td>\n",
       "      <td>44000.0</td>\n",
       "      <td>General Liability Other</td>\n",
       "      <td>Wife fell off chair and injured her neck</td>\n",
       "    </tr>\n",
       "    <tr>\n",
       "      <th>460</th>\n",
       "      <td>2020-11-01</td>\n",
       "      <td>433 Delafield Avenue Staten Island NY</td>\n",
       "      <td>42000.0</td>\n",
       "      <td>2000.0</td>\n",
       "      <td>44000.0</td>\n",
       "      <td>0.0</td>\n",
       "      <td>0.0</td>\n",
       "      <td>0.0</td>\n",
       "      <td>0.00</td>\n",
       "      <td>0.0</td>\n",
       "      <td>...</td>\n",
       "      <td>0</td>\n",
       "      <td>0.0</td>\n",
       "      <td>0</td>\n",
       "      <td>0.0</td>\n",
       "      <td>0.00</td>\n",
       "      <td>0.0</td>\n",
       "      <td>44000.00</td>\n",
       "      <td>44000.0</td>\n",
       "      <td>General Liability Other</td>\n",
       "      <td>Trip and Fall.</td>\n",
       "    </tr>\n",
       "    <tr>\n",
       "      <th>461</th>\n",
       "      <td>2020-10-20</td>\n",
       "      <td>310 E Magnolia Ave Galloway NJ</td>\n",
       "      <td>42000.0</td>\n",
       "      <td>2000.0</td>\n",
       "      <td>44000.0</td>\n",
       "      <td>0.0</td>\n",
       "      <td>0.0</td>\n",
       "      <td>0.0</td>\n",
       "      <td>0.00</td>\n",
       "      <td>0.0</td>\n",
       "      <td>...</td>\n",
       "      <td>0</td>\n",
       "      <td>0.0</td>\n",
       "      <td>0</td>\n",
       "      <td>0.0</td>\n",
       "      <td>0.00</td>\n",
       "      <td>0.0</td>\n",
       "      <td>44000.00</td>\n",
       "      <td>44000.0</td>\n",
       "      <td>General Liability</td>\n",
       "      <td>Insd's neighbor was injured while trying to se...</td>\n",
       "    </tr>\n",
       "  </tbody>\n",
       "</table>\n",
       "<p>462 rows × 27 columns</p>\n",
       "</div>"
      ],
      "text/plain": [
       "     Loss Date                                   Location of Loss  \\\n",
       "0   2012-10-29  163-09 22ND AVE, WHITESTONE, NY 11357 - JIMMY ...   \n",
       "1   2012-10-29                 40-31 203TH ST., BAYSIDE, NY 11361   \n",
       "2   2012-11-07                          43-56 171ST, FLUSHING, NY   \n",
       "3   2013-01-24                             38-09 111TH STREET, NY   \n",
       "4   2013-04-06                     2784 SAMPSON AVENUE, BRONX, NY   \n",
       "..         ...                                                ...   \n",
       "457 2020-09-23                      9219 95th Street Woodhaven NY   \n",
       "458 2019-07-06                         12311 Inwood St Jamaica NY   \n",
       "459 2020-01-03                    7227 Calanmus Aenue Woodside NY   \n",
       "460 2020-11-01              433 Delafield Avenue Staten Island NY   \n",
       "461 2020-10-20                     310 E Magnolia Ave Galloway NJ   \n",
       "\n",
       "     Loss Reserve  LAE Reserve  Total Reserves  Previous Reserves  \\\n",
       "0             0.0          0.0             0.0                0.0   \n",
       "1             0.0          0.0             0.0                0.0   \n",
       "2             0.0          0.0             0.0                0.0   \n",
       "3             0.0          0.0             0.0                0.0   \n",
       "4             0.0          0.0             0.0                0.0   \n",
       "..            ...          ...             ...                ...   \n",
       "457       42000.0      12000.0         54000.0                0.0   \n",
       "458       42000.0       2000.0         44000.0                0.0   \n",
       "459       42000.0       2000.0         44000.0                0.0   \n",
       "460       42000.0       2000.0         44000.0                0.0   \n",
       "461       42000.0       2000.0         44000.0                0.0   \n",
       "\n",
       "     Sedgwick Fees  Loss Paid  LAE Paid  Recoveries  ...  \\\n",
       "0            449.0        0.0    406.05         0.0  ...   \n",
       "1            449.0        0.0    999.15         0.0  ...   \n",
       "2            797.0        0.0    410.65         0.0  ...   \n",
       "3            797.0        0.0  12322.74         0.0  ...   \n",
       "4            797.0    25000.0   9473.99         0.0  ...   \n",
       "..             ...        ...       ...         ...  ...   \n",
       "457            0.0        0.0      0.00         0.0  ...   \n",
       "458            0.0        0.0      0.00         0.0  ...   \n",
       "459            0.0        0.0      0.00         0.0  ...   \n",
       "460            0.0        0.0      0.00         0.0  ...   \n",
       "461            0.0        0.0      0.00         0.0  ...   \n",
       "\n",
       "     This month Recoveries  Total LAE Paid  Net Loss Paid  \\\n",
       "0                        0             0.0              0   \n",
       "1                        0             0.0              0   \n",
       "2                        0             0.0              0   \n",
       "3                        0             0.0              0   \n",
       "4                        0             0.0              0   \n",
       "..                     ...             ...            ...   \n",
       "457                      0             0.0              0   \n",
       "458                      0             0.0              0   \n",
       "459                      0             0.0              0   \n",
       "460                      0             0.0              0   \n",
       "461                      0             0.0              0   \n",
       "\n",
       "     This moth Total Paid  Total Paid  Deductible  Incurred  \\\n",
       "0                     0.0      855.05        -1.0    855.05   \n",
       "1                     0.0     1448.15        -1.0   1448.15   \n",
       "2                     0.0     1207.65        -1.0   1207.65   \n",
       "3                     0.0    13119.74        -1.0  13119.74   \n",
       "4                     0.0    35270.99        -1.0  35270.99   \n",
       "..                    ...         ...         ...       ...   \n",
       "457                   0.0        0.00         0.0  54000.00   \n",
       "458                   0.0        0.00         0.0  44000.00   \n",
       "459                   0.0        0.00         0.0  44000.00   \n",
       "460                   0.0        0.00         0.0  44000.00   \n",
       "461                   0.0        0.00         0.0  44000.00   \n",
       "\n",
       "     This month incurred total for Summary risk(total reserve + paid)  \\\n",
       "0                                                  0.0                  \n",
       "1                                                  0.0                  \n",
       "2                                                  0.0                  \n",
       "3                                                  0.0                  \n",
       "4                                                  0.0                  \n",
       "..                                                 ...                  \n",
       "457                                            54000.0                  \n",
       "458                                            44000.0                  \n",
       "459                                            44000.0                  \n",
       "460                                            44000.0                  \n",
       "461                                            44000.0                  \n",
       "\n",
       "                   Loss Type  \\\n",
       "0       PROPERTY DAMAGE - GL   \n",
       "1       PROPERTY DAMAGE - GL   \n",
       "2         BODILY INJURY - GL   \n",
       "3         BODILY INJURY - GL   \n",
       "4         BODILY INJURY - GL   \n",
       "..                       ...   \n",
       "457  General Liability Other   \n",
       "458  General Liability Other   \n",
       "459  General Liability Other   \n",
       "460  General Liability Other   \n",
       "461       General Liability    \n",
       "\n",
       "                                           Description  \n",
       "0    Hurrican Sandy - Insured tree fell on roof of ...  \n",
       "1                CAT 90 - Tree fell on insured`s roof.  \n",
       "2    CLMT ALLEGES A TREE FELL DUE TO HURRICANE AND ...  \n",
       "3    CLMT ALLEGEDLY SLIPPED AND FELL ON SIDEWALK AN...  \n",
       "4    CLMT ALLEGEDLY TRIPPED AND FELL ON SIDEWALK AN...  \n",
       "..                                                 ...  \n",
       "457  Insured's  tenant received  New York County Su...  \n",
       "458  Claimant alleges they were attacked by dog tha...  \n",
       "459           Wife fell off chair and injured her neck  \n",
       "460                                     Trip and Fall.  \n",
       "461  Insd's neighbor was injured while trying to se...  \n",
       "\n",
       "[462 rows x 27 columns]"
      ]
     },
     "execution_count": 52,
     "metadata": {},
     "output_type": "execute_result"
    }
   ],
   "source": [
    "#To show how each dataframe looks like\n",
    "\n",
    "liab_df"
   ]
  },
  {
   "cell_type": "markdown",
   "metadata": {},
   "source": [
    "# Trend"
   ]
  },
  {
   "cell_type": "markdown",
   "metadata": {},
   "source": [
    "To see if there is a trend of incurred losses in each peril, scatterplots and linear regressions are shown below."
   ]
  },
  {
   "cell_type": "code",
   "execution_count": 53,
   "metadata": {},
   "outputs": [
    {
     "data": {
      "text/plain": [
       "Text(0.5, 1.0, 'Liability')"
      ]
     },
     "execution_count": 53,
     "metadata": {},
     "output_type": "execute_result"
    },
    {
     "data": {
      "image/png": "[encoded data removed]",
      "text/plain": [
       "<Figure size 432x288 with 1 Axes>"
      ]
     },
     "metadata": {
      "needs_background": "light"
     },
     "output_type": "display_data"
    }
   ],
   "source": [
    "from sklearn.linear_model import LinearRegression\n",
    "from scipy import stats\n",
    "\n",
    "#scatter plot of liability claims\n",
    "plt.scatter(liab_df['Loss Date'], liab_df['Incurred'])\n",
    "plt.title('Liability')"
   ]
  },
  {
   "cell_type": "code",
   "execution_count": 54,
   "metadata": {},
   "outputs": [
    {
     "data": {
      "text/plain": [
       "Text(0.5, 1.0, 'Fire')"
      ]
     },
     "execution_count": 54,
     "metadata": {},
     "output_type": "execute_result"
    },
    {
     "data": {
      "image/png": "[encoded data removed]",
      "text/plain": [
       "<Figure size 432x288 with 1 Axes>"
      ]
     },
     "metadata": {
      "needs_background": "light"
     },
     "output_type": "display_data"
    }
   ],
   "source": [
    "#scatter plot of fire claims\n",
    "plt.scatter(fire_df['Loss Date'], fire_df['Incurred'])\n",
    "plt.title('Fire')"
   ]
  },
  {
   "cell_type": "code",
   "execution_count": 55,
   "metadata": {},
   "outputs": [
    {
     "data": {
      "text/plain": [
       "Text(0.5, 1.0, 'Water')"
      ]
     },
     "execution_count": 55,
     "metadata": {},
     "output_type": "execute_result"
    },
    {
     "data": {
      "image/png": "[encoded data removed]",
      "text/plain": [
       "<Figure size 432x288 with 1 Axes>"
      ]
     },
     "metadata": {
      "needs_background": "light"
     },
     "output_type": "display_data"
    }
   ],
   "source": [
    "#scatter plot of water claims\n",
    "plt.scatter(water_df['Loss Date'], water_df['Incurred'])\n",
    "plt.title('Water')"
   ]
  },
  {
   "cell_type": "code",
   "execution_count": 56,
   "metadata": {},
   "outputs": [
    {
     "data": {
      "text/plain": [
       "Text(0.5, 1.0, 'Wind')"
      ]
     },
     "execution_count": 56,
     "metadata": {},
     "output_type": "execute_result"
    },
    {
     "data": {
      "image/png": "[encoded data removed]",
      "text/plain": [
       "<Figure size 432x288 with 1 Axes>"
      ]
     },
     "metadata": {
      "needs_background": "light"
     },
     "output_type": "display_data"
    }
   ],
   "source": [
    "#scatter plot of wind claims\n",
    "plt.scatter(wind_df['Loss Date'], wind_df['Incurred'])\n",
    "plt.title('Wind')"
   ]
  },
  {
   "cell_type": "code",
   "execution_count": 57,
   "metadata": {},
   "outputs": [
    {
     "data": {
      "text/plain": [
       "Text(0.5, 1.0, 'Other')"
      ]
     },
     "execution_count": 57,
     "metadata": {},
     "output_type": "execute_result"
    },
    {
     "data": {
      "image/png": "[encoded data removed]",
      "text/plain": [
       "<Figure size 432x288 with 1 Axes>"
      ]
     },
     "metadata": {
      "needs_background": "light"
     },
     "output_type": "display_data"
    }
   ],
   "source": [
    "#scatter plot of the other claims\n",
    "plt.scatter(other_df['Loss Date'], other_df['Incurred'])\n",
    "plt.title('Other')"
   ]
  },
  {
   "cell_type": "markdown",
   "metadata": {},
   "source": [
    "# Monte Carlo Simulation"
   ]
  },
  {
   "cell_type": "markdown",
   "metadata": {},
   "source": [
    "### Liability claims"
   ]
  },
  {
   "cell_type": "code",
   "execution_count": 58,
   "metadata": {},
   "outputs": [],
   "source": [
    "import array\n",
    "\n",
    "n = 5000 #The number of simulation\n",
    "s = 100 #The number of samples\n",
    "\n",
    "test_df = pd.DataFrame(index = range(n))\n",
    "test_l = []\n",
    "\n",
    "for i in range (n):\n",
    "    sample = np.random.choice (liab_df['Incurred'], s)\n",
    "    \n",
    "    mean = sample.mean()\n",
    "    \n",
    "    test_l.append(mean)\n",
    "    "
   ]
  },
  {
   "cell_type": "code",
   "execution_count": 59,
   "metadata": {},
   "outputs": [
    {
     "data": {
      "text/plain": [
       "51732.86217382015"
      ]
     },
     "execution_count": 59,
     "metadata": {},
     "output_type": "execute_result"
    }
   ],
   "source": [
    "#The mean of 10,000 simulations is below:\n",
    "\n",
    "sum(test_l)/len(test_l)"
   ]
  },
  {
   "cell_type": "code",
   "execution_count": 60,
   "metadata": {},
   "outputs": [
    {
     "data": {
      "text/plain": [
       "(array([  2.,   5.,   9.,  15.,  38.,  67., 114., 142., 228., 220., 284.,\n",
       "        349., 386., 411., 402., 373., 354., 327., 276., 250., 206., 143.,\n",
       "        110.,  88.,  69.,  46.,  29.,  13.,  19.,   9.,   6.,   4.,   1.,\n",
       "          1.,   0.,   2.,   1.,   0.,   0.,   1.]),\n",
       " array([28661.0706  , 30216.635835, 31772.20107 , 33327.766305,\n",
       "        34883.33154 , 36438.896775, 37994.46201 , 39550.027245,\n",
       "        41105.59248 , 42661.157715, 44216.72295 , 45772.288185,\n",
       "        47327.85342 , 48883.418655, 50438.98389 , 51994.549125,\n",
       "        53550.11436 , 55105.679595, 56661.24483 , 58216.810065,\n",
       "        59772.3753  , 61327.940535, 62883.50577 , 64439.071005,\n",
       "        65994.63624 , 67550.201475, 69105.76671 , 70661.331945,\n",
       "        72216.89718 , 73772.462415, 75328.02765 , 76883.592885,\n",
       "        78439.15812 , 79994.723355, 81550.28859 , 83105.853825,\n",
       "        84661.41906 , 86216.984295, 87772.54953 , 89328.114765,\n",
       "        90883.68    ]),\n",
       " <BarContainer object of 40 artists>)"
      ]
     },
     "execution_count": 60,
     "metadata": {},
     "output_type": "execute_result"
    },
    {
     "data": {
      "image/png": "[encoded data removed]",
      "text/plain": [
       "<Figure size 432x288 with 1 Axes>"
      ]
     },
     "metadata": {
      "needs_background": "light"
     },
     "output_type": "display_data"
    }
   ],
   "source": [
    "plt.hist(test_l, bins = 40)"
   ]
  },
  {
   "cell_type": "code",
   "execution_count": 61,
   "metadata": {},
   "outputs": [
    {
     "data": {
      "text/plain": [
       "51891.670974026"
      ]
     },
     "execution_count": 61,
     "metadata": {},
     "output_type": "execute_result"
    }
   ],
   "source": [
    "#The mean of incurred losses from 2012 to 2019 is below:\n",
    "\n",
    "liab_df['Incurred'].mean()"
   ]
  },
  {
   "cell_type": "code",
   "execution_count": 62,
   "metadata": {},
   "outputs": [
    {
     "data": {
      "text/plain": [
       "51290.06305"
      ]
     },
     "execution_count": 62,
     "metadata": {},
     "output_type": "execute_result"
    }
   ],
   "source": [
    "#The median of 10,000 simulations\n",
    "\n",
    "np.percentile(test_l, 50)"
   ]
  },
  {
   "cell_type": "code",
   "execution_count": 63,
   "metadata": {},
   "outputs": [
    {
     "data": {
      "text/plain": [
       "Text(0.5, 1.0, 'Liability')"
      ]
     },
     "execution_count": 63,
     "metadata": {},
     "output_type": "execute_result"
    },
    {
     "data": {
      "image/png": "[encoded data removed]",
      "text/plain": [
       "<Figure size 432x288 with 1 Axes>"
      ]
     },
     "metadata": {
      "needs_background": "light"
     },
     "output_type": "display_data"
    }
   ],
   "source": [
    "liab_df.boxplot(column = 'Incurred').set_title('Liability')"
   ]
  },
  {
   "cell_type": "code",
   "execution_count": 64,
   "metadata": {},
   "outputs": [
    {
     "name": "stdout",
     "output_type": "stream",
     "text": [
      "139761.515\n",
      "-80795.525\n"
     ]
    }
   ],
   "source": [
    "maxi, mini = boxsummary(liab_df['Incurred'])\n",
    "\n",
    "print(maxi)\n",
    "print(mini)"
   ]
  },
  {
   "cell_type": "code",
   "execution_count": 69,
   "metadata": {},
   "outputs": [
    {
     "data": {
      "text/plain": [
       "(array([  2.,   3.,   6.,   9.,  16.,  19.,  31.,  61., 102., 143., 201.,\n",
       "        256., 399., 440., 533., 642., 687., 719., 777., 729., 689., 673.,\n",
       "        583., 520., 421., 344., 288., 210., 172., 105.,  80.,  51.,  37.,\n",
       "         23.,  10.,   9.,   3.,   5.,   1.,   1.]),\n",
       " array([19755.6993 , 20341.76675, 20927.8342 , 21513.90165, 22099.9691 ,\n",
       "        22686.03655, 23272.104  , 23858.17145, 24444.2389 , 25030.30635,\n",
       "        25616.3738 , 26202.44125, 26788.5087 , 27374.57615, 27960.6436 ,\n",
       "        28546.71105, 29132.7785 , 29718.84595, 30304.9134 , 30890.98085,\n",
       "        31477.0483 , 32063.11575, 32649.1832 , 33235.25065, 33821.3181 ,\n",
       "        34407.38555, 34993.453  , 35579.52045, 36165.5879 , 36751.65535,\n",
       "        37337.7228 , 37923.79025, 38509.8577 , 39095.92515, 39681.9926 ,\n",
       "        40268.06005, 40854.1275 , 41440.19495, 42026.2624 , 42612.32985,\n",
       "        43198.3973 ]),\n",
       " <BarContainer object of 40 artists>)"
      ]
     },
     "execution_count": 69,
     "metadata": {},
     "output_type": "execute_result"
    },
    {
     "data": {
      "image/png": "[encoded data removed]",
      "text/plain": [
       "<Figure size 432x288 with 1 Axes>"
      ]
     },
     "metadata": {
      "needs_background": "light"
     },
     "output_type": "display_data"
    }
   ],
   "source": [
    "liab_l = dataClean(liab_df['Incurred'])\n",
    "\n",
    "test_list = monteCarlo(liab_l)\n",
    "\n",
    "plt.hist(test_list, bins = 40)"
   ]
  },
  {
   "cell_type": "code",
   "execution_count": 70,
   "metadata": {},
   "outputs": [
    {
     "data": {
      "text/plain": [
       "30935.204238739872"
      ]
     },
     "execution_count": 70,
     "metadata": {},
     "output_type": "execute_result"
    }
   ],
   "source": [
    "# The average of incurred losses of liability claims\n",
    "\n",
    "sum(test_list)/len(test_list)"
   ]
  },
  {
   "cell_type": "code",
   "execution_count": 71,
   "metadata": {},
   "outputs": [
    {
     "data": {
      "text/plain": [
       "30844.65445"
      ]
     },
     "execution_count": 71,
     "metadata": {},
     "output_type": "execute_result"
    }
   ],
   "source": [
    "# The median of incurred losses of liability claims\n",
    "\n",
    "np.percentile(test_list, 50)"
   ]
  },
  {
   "cell_type": "markdown",
   "metadata": {},
   "source": [
    "# The same process applied to other types of claims"
   ]
  },
  {
   "cell_type": "code",
   "execution_count": 72,
   "metadata": {},
   "outputs": [],
   "source": [
    "#A function returning maximum and minimum of boxplot\n",
    "\n",
    "def boxsummary (series):\n",
    "    itq = series.quantile(0.75) - series.quantile(0.25)\n",
    "    \n",
    "    maximum = series.quantile(0.75) + 1.5*itq\n",
    "    minimum = series.quantile(0.25) - 1.5*itq\n",
    "    \n",
    "    return maximum, minimum"
   ]
  },
  {
   "cell_type": "code",
   "execution_count": 73,
   "metadata": {},
   "outputs": [],
   "source": [
    "#A function of deleting outliers\n",
    "\n",
    "def dataClean (series):\n",
    "    l = []\n",
    "    \n",
    "    maximum, minimum = boxsummary(series)\n",
    "    \n",
    "    for i in range (len(series)):\n",
    "        if series[i] >= minimum and series[i] <= maximum:\n",
    "            l.append(series[i])\n",
    "            \n",
    "    return l"
   ]
  },
  {
   "cell_type": "code",
   "execution_count": 74,
   "metadata": {},
   "outputs": [],
   "source": [
    "#A function of the Monte Carlo simulation\n",
    "\n",
    "def monteCarlo (l):\n",
    "    n = 10000 #The number of simulations\n",
    "    s = 100 #The number of samples drawn\n",
    "    \n",
    "    test_list = []\n",
    "    \n",
    "    for i in range (n):\n",
    "        sample = np.random.choice (l, s)\n",
    "        \n",
    "        mean = sample.mean()\n",
    "        \n",
    "        test_list.append(mean)\n",
    "        \n",
    "    return test_list\n",
    "    "
   ]
  },
  {
   "cell_type": "code",
   "execution_count": 75,
   "metadata": {},
   "outputs": [],
   "source": [
    "def meanMedian (l):\n",
    "    mean = sum(l)/len(l)\n",
    "    median = np.percentile(l, 50)\n",
    "    \n",
    "    return mean, median"
   ]
  },
  {
   "cell_type": "markdown",
   "metadata": {},
   "source": [
    "### Water claims"
   ]
  },
  {
   "cell_type": "code",
   "execution_count": 109,
   "metadata": {
    "scrolled": true
   },
   "outputs": [
    {
     "name": "stdout",
     "output_type": "stream",
     "text": [
      "32752.324999999997 -17253.874999999996\n",
      "$32752.32이상이 고액사고입니다.\n"
     ]
    },
    {
     "data": {
      "image/png": "[encoded data removed]",
      "text/plain": [
       "<Figure size 432x288 with 1 Axes>"
      ]
     },
     "metadata": {
      "needs_background": "light"
     },
     "output_type": "display_data"
    }
   ],
   "source": [
    "water_df.boxplot(column = 'Incurred').set_title('Water')\n",
    "\n",
    "maximum, minimum = boxsummary(water_df['Incurred'])\n",
    "\n",
    "print(maximum, minimum)\n",
    "max_v = round(maximum, 2)\n",
    "print(\"$\" + str(max_v) + \"이상이 고액사고입니다.\")"
   ]
  },
  {
   "cell_type": "code",
   "execution_count": 77,
   "metadata": {},
   "outputs": [
    {
     "data": {
      "text/plain": [
       "(array([  4.,   4.,  14.,  14.,  44.,  72.,  83., 150., 245., 352., 375.,\n",
       "        549., 614., 721., 799., 745., 811., 795., 723., 617., 558., 460.,\n",
       "        320., 272., 202., 152.,  96.,  69.,  47.,  34.,  23.,  12.,  13.,\n",
       "          4.,   1.,   3.,   0.,   2.,   0.,   1.]),\n",
       " array([ 4692.9165 ,  4840.58123,  4988.24596,  5135.91069,  5283.57542,\n",
       "         5431.24015,  5578.90488,  5726.56961,  5874.23434,  6021.89907,\n",
       "         6169.5638 ,  6317.22853,  6464.89326,  6612.55799,  6760.22272,\n",
       "         6907.88745,  7055.55218,  7203.21691,  7350.88164,  7498.54637,\n",
       "         7646.2111 ,  7793.87583,  7941.54056,  8089.20529,  8236.87002,\n",
       "         8384.53475,  8532.19948,  8679.86421,  8827.52894,  8975.19367,\n",
       "         9122.8584 ,  9270.52313,  9418.18786,  9565.85259,  9713.51732,\n",
       "         9861.18205, 10008.84678, 10156.51151, 10304.17624, 10451.84097,\n",
       "        10599.5057 ]),\n",
       " <BarContainer object of 40 artists>)"
      ]
     },
     "execution_count": 77,
     "metadata": {},
     "output_type": "execute_result"
    },
    {
     "data": {
      "image/png": "[encoded data removed]",
      "text/plain": [
       "<Figure size 432x288 with 1 Axes>"
      ]
     },
     "metadata": {
      "needs_background": "light"
     },
     "output_type": "display_data"
    }
   ],
   "source": [
    "water_l = dataClean(water_df['Incurred'])\n",
    "\n",
    "water_test_list = monteCarlo(water_l)\n",
    "\n",
    "plt.hist(water_test_list, bins = 40)"
   ]
  },
  {
   "cell_type": "code",
   "execution_count": 78,
   "metadata": {},
   "outputs": [
    {
     "data": {
      "text/plain": [
       "(7110.144124070002, 7097.124699999999)"
      ]
     },
     "execution_count": 78,
     "metadata": {},
     "output_type": "execute_result"
    }
   ],
   "source": [
    "meanMedian(water_test_list)"
   ]
  },
  {
   "cell_type": "code",
   "execution_count": 79,
   "metadata": {},
   "outputs": [
    {
     "data": {
      "text/plain": [
       "(array([  2.,   4.,  28., 112., 220., 417., 604., 795., 875., 925., 881.,\n",
       "        875., 803., 659., 566., 471., 437., 327., 258., 195., 149., 116.,\n",
       "         74.,  60.,  33.,  34.,  30.,  13.,   9.,  11.,   4.,   3.,   2.,\n",
       "          0.,   4.,   1.,   2.,   0.,   0.,   1.]),\n",
       " array([ 5535.2186 ,  6132.00694,  6728.79528,  7325.58362,  7922.37196,\n",
       "         8519.1603 ,  9115.94864,  9712.73698, 10309.52532, 10906.31366,\n",
       "        11503.102  , 12099.89034, 12696.67868, 13293.46702, 13890.25536,\n",
       "        14487.0437 , 15083.83204, 15680.62038, 16277.40872, 16874.19706,\n",
       "        17470.9854 , 18067.77374, 18664.56208, 19261.35042, 19858.13876,\n",
       "        20454.9271 , 21051.71544, 21648.50378, 22245.29212, 22842.08046,\n",
       "        23438.8688 , 24035.65714, 24632.44548, 25229.23382, 25826.02216,\n",
       "        26422.8105 , 27019.59884, 27616.38718, 28213.17552, 28809.96386,\n",
       "        29406.7522 ]),\n",
       " <BarContainer object of 40 artists>)"
      ]
     },
     "execution_count": 79,
     "metadata": {},
     "output_type": "execute_result"
    },
    {
     "data": {
      "image/png": "[encoded data removed]",
      "text/plain": [
       "<Figure size 432x288 with 1 Axes>"
      ]
     },
     "metadata": {
      "needs_background": "light"
     },
     "output_type": "display_data"
    }
   ],
   "source": [
    "water_pure_test = monteCarlo(water_df['Incurred'])\n",
    "\n",
    "plt.hist(water_pure_test, bins = 40)"
   ]
  },
  {
   "cell_type": "code",
   "execution_count": 80,
   "metadata": {},
   "outputs": [
    {
     "name": "stdout",
     "output_type": "stream",
     "text": [
      "The mean is : 12561.598153639981 and the median is:  12195.79825\n"
     ]
    }
   ],
   "source": [
    "mean, median = meanMedian(water_pure_test)\n",
    "\n",
    "print(\"The mean is :\", mean, \"and the median is: \", median)"
   ]
  },
  {
   "cell_type": "markdown",
   "metadata": {},
   "source": [
    "### Fire/Lightening Claims"
   ]
  },
  {
   "cell_type": "code",
   "execution_count": 110,
   "metadata": {},
   "outputs": [
    {
     "name": "stdout",
     "output_type": "stream",
     "text": [
      "503715.39749999996 -286787.2225\n",
      "$503715.4이상이 고액사고입니다.\n"
     ]
    },
    {
     "data": {
      "image/png": "[encoded data removed]",
      "text/plain": [
       "<Figure size 432x288 with 1 Axes>"
      ]
     },
     "metadata": {
      "needs_background": "light"
     },
     "output_type": "display_data"
    }
   ],
   "source": [
    "fire_df.boxplot(column = 'Incurred').set_title('Fire/Lightning')\n",
    "\n",
    "maximum, minimum = boxsummary(fire_df['Incurred'])\n",
    "\n",
    "print(maximum, minimum)\n",
    "max_v = round(maximum, 2)\n",
    "print(\"$\" + str(max_v) + \"이상이 고액사고입니다.\")"
   ]
  },
  {
   "cell_type": "code",
   "execution_count": 82,
   "metadata": {},
   "outputs": [
    {
     "data": {
      "text/plain": [
       "(array([  4.,   8.,  15.,  37.,  40.,  69., 123., 150., 219., 277., 388.,\n",
       "        407., 505., 628., 683., 714., 707., 737., 680., 655., 580., 518.,\n",
       "        438., 307., 252., 248., 162., 136., 119.,  68.,  53.,  24.,  25.,\n",
       "         11.,   4.,   3.,   1.,   3.,   0.,   2.]),\n",
       " array([ 62735.5149  ,  64982.986675,  67230.45845 ,  69477.930225,\n",
       "         71725.402   ,  73972.873775,  76220.34555 ,  78467.817325,\n",
       "         80715.2891  ,  82962.760875,  85210.23265 ,  87457.704425,\n",
       "         89705.1762  ,  91952.647975,  94200.11975 ,  96447.591525,\n",
       "         98695.0633  , 100942.535075, 103190.00685 , 105437.478625,\n",
       "        107684.9504  , 109932.422175, 112179.89395 , 114427.365725,\n",
       "        116674.8375  , 118922.309275, 121169.78105 , 123417.252825,\n",
       "        125664.7246  , 127912.196375, 130159.66815 , 132407.139925,\n",
       "        134654.6117  , 136902.083475, 139149.55525 , 141397.027025,\n",
       "        143644.4988  , 145891.970575, 148139.44235 , 150386.914125,\n",
       "        152634.3859  ]),\n",
       " <BarContainer object of 40 artists>)"
      ]
     },
     "execution_count": 82,
     "metadata": {},
     "output_type": "execute_result"
    },
    {
     "data": {
      "image/png": "[encoded data removed]",
      "text/plain": [
       "<Figure size 432x288 with 1 Axes>"
      ]
     },
     "metadata": {
      "needs_background": "light"
     },
     "output_type": "display_data"
    }
   ],
   "source": [
    "fire_l = dataClean(fire_df['Incurred'])\n",
    "\n",
    "fire_test_list = monteCarlo(fire_l)\n",
    "\n",
    "plt.hist(fire_test_list, bins = 40)"
   ]
  },
  {
   "cell_type": "code",
   "execution_count": 83,
   "metadata": {},
   "outputs": [
    {
     "name": "stdout",
     "output_type": "stream",
     "text": [
      "The mean is : 101317.21709533982 and the median is:  101034.18475\n"
     ]
    }
   ],
   "source": [
    "mean, median = meanMedian(fire_test_list)\n",
    "\n",
    "print(\"The mean is :\", mean, \"and the median is: \", median)"
   ]
  },
  {
   "cell_type": "code",
   "execution_count": 84,
   "metadata": {},
   "outputs": [
    {
     "data": {
      "text/plain": [
       "(array([  1.,   1.,   1.,   4.,   7.,  22.,  26.,  40.,  97., 145., 271.,\n",
       "        311., 387., 551., 672., 727., 813., 785., 792., 757., 714., 592.,\n",
       "        509., 434., 345., 265., 209., 154., 126.,  76.,  68.,  25.,  28.,\n",
       "         18.,  11.,   9.,   2.,   2.,   1.,   2.]),\n",
       " array([ 67874.2629  ,  71884.225845,  75894.18879 ,  79904.151735,\n",
       "         83914.11468 ,  87924.077625,  91934.04057 ,  95944.003515,\n",
       "         99953.96646 , 103963.929405, 107973.89235 , 111983.855295,\n",
       "        115993.81824 , 120003.781185, 124013.74413 , 128023.707075,\n",
       "        132033.67002 , 136043.632965, 140053.59591 , 144063.558855,\n",
       "        148073.5218  , 152083.484745, 156093.44769 , 160103.410635,\n",
       "        164113.37358 , 168123.336525, 172133.29947 , 176143.262415,\n",
       "        180153.22536 , 184163.188305, 188173.15125 , 192183.114195,\n",
       "        196193.07714 , 200203.040085, 204213.00303 , 208222.965975,\n",
       "        212232.92892 , 216242.891865, 220252.85481 , 224262.817755,\n",
       "        228272.7807  ]),\n",
       " <BarContainer object of 40 artists>)"
      ]
     },
     "execution_count": 84,
     "metadata": {},
     "output_type": "execute_result"
    },
    {
     "data": {
      "image/png": "[encoded data removed]",
      "text/plain": [
       "<Figure size 432x288 with 1 Axes>"
      ]
     },
     "metadata": {
      "needs_background": "light"
     },
     "output_type": "display_data"
    }
   ],
   "source": [
    "fire_pure_test = monteCarlo(fire_df['Incurred'])\n",
    "\n",
    "plt.hist(fire_pure_test, bins = 40)"
   ]
  },
  {
   "cell_type": "code",
   "execution_count": 85,
   "metadata": {},
   "outputs": [
    {
     "name": "stdout",
     "output_type": "stream",
     "text": [
      "The mean is : 141769.13030088024 and the median is:  140678.32525\n"
     ]
    }
   ],
   "source": [
    "mean, median = meanMedian(fire_pure_test)\n",
    "\n",
    "print(\"The mean is :\", mean, \"and the median is: \", median)"
   ]
  },
  {
   "cell_type": "markdown",
   "metadata": {},
   "source": [
    "### Wind/Hail Claims"
   ]
  },
  {
   "cell_type": "code",
   "execution_count": 111,
   "metadata": {},
   "outputs": [
    {
     "name": "stdout",
     "output_type": "stream",
     "text": [
      "19889.967500000006 -9427.212500000003\n",
      "$19889.97이상이 고액사고입니다.\n"
     ]
    },
    {
     "data": {
      "image/png": "[encoded data removed]",
      "text/plain": [
       "<Figure size 432x288 with 1 Axes>"
      ]
     },
     "metadata": {
      "needs_background": "light"
     },
     "output_type": "display_data"
    }
   ],
   "source": [
    "wind_df.boxplot(column = 'Incurred').set_title('Wind/Hail')\n",
    "\n",
    "maximum, minimum = boxsummary(wind_df['Incurred'])\n",
    "\n",
    "print(maximum, minimum)\n",
    "max_v = round(maximum, 2)\n",
    "print(\"$\" + str(max_v) + \"이상이 고액사고입니다.\")"
   ]
  },
  {
   "cell_type": "code",
   "execution_count": 87,
   "metadata": {},
   "outputs": [
    {
     "data": {
      "text/plain": [
       "(array([  6.,   4.,  13.,  27.,  43.,  45., 108., 123., 216., 313., 388.,\n",
       "        538., 605., 706., 800., 828., 821., 806., 738., 656., 525., 434.,\n",
       "        376., 269., 219., 141.,  96.,  56.,  39.,  22.,  15.,  12.,   5.,\n",
       "          4.,   1.,   0.,   0.,   1.,   0.,   1.]),\n",
       " array([3887.9339   , 3986.3044575, 4084.675015 , 4183.0455725,\n",
       "        4281.41613  , 4379.7866875, 4478.157245 , 4576.5278025,\n",
       "        4674.89836  , 4773.2689175, 4871.639475 , 4970.0100325,\n",
       "        5068.38059  , 5166.7511475, 5265.121705 , 5363.4922625,\n",
       "        5461.86282  , 5560.2333775, 5658.603935 , 5756.9744925,\n",
       "        5855.34505  , 5953.7156075, 6052.086165 , 6150.4567225,\n",
       "        6248.82728  , 6347.1978375, 6445.568395 , 6543.9389525,\n",
       "        6642.30951  , 6740.6800675, 6839.050625 , 6937.4211825,\n",
       "        7035.79174  , 7134.1622975, 7232.532855 , 7330.9034125,\n",
       "        7429.27397  , 7527.6445275, 7626.015085 , 7724.3856425,\n",
       "        7822.7562   ]),\n",
       " <BarContainer object of 40 artists>)"
      ]
     },
     "execution_count": 87,
     "metadata": {},
     "output_type": "execute_result"
    },
    {
     "data": {
      "image/png": "[encoded data removed]",
      "text/plain": [
       "<Figure size 432x288 with 1 Axes>"
      ]
     },
     "metadata": {
      "needs_background": "light"
     },
     "output_type": "display_data"
    }
   ],
   "source": [
    "wind_l = dataClean(wind_df['Incurred'])\n",
    "\n",
    "wind_test_list = monteCarlo(wind_l)\n",
    "\n",
    "plt.hist(wind_test_list, bins = 40)"
   ]
  },
  {
   "cell_type": "code",
   "execution_count": 88,
   "metadata": {},
   "outputs": [
    {
     "name": "stdout",
     "output_type": "stream",
     "text": [
      "The mean is : 5498.952418550019 and the median is:  5489.925949999999\n"
     ]
    }
   ],
   "source": [
    "mean, median = meanMedian(wind_test_list)\n",
    "\n",
    "print(\"The mean is :\", mean, \"and the median is: \", median)"
   ]
  },
  {
   "cell_type": "code",
   "execution_count": 89,
   "metadata": {},
   "outputs": [
    {
     "data": {
      "text/plain": [
       "(array([  5.,   9.,  17.,  45.,  65.,  95., 186., 294., 393., 526., 646.,\n",
       "        734., 711., 702., 777., 726., 709., 640., 506., 432., 385., 324.,\n",
       "        226., 186., 175., 111.,  94.,  67.,  63.,  47.,  34.,  17.,  12.,\n",
       "         10.,  11.,   8.,   5.,   3.,   1.,   3.]),\n",
       " array([ 4423.0144   ,  4596.9499825,  4770.885565 ,  4944.8211475,\n",
       "         5118.75673  ,  5292.6923125,  5466.627895 ,  5640.5634775,\n",
       "         5814.49906  ,  5988.4346425,  6162.370225 ,  6336.3058075,\n",
       "         6510.24139  ,  6684.1769725,  6858.112555 ,  7032.0481375,\n",
       "         7205.98372  ,  7379.9193025,  7553.854885 ,  7727.7904675,\n",
       "         7901.72605  ,  8075.6616325,  8249.597215 ,  8423.5327975,\n",
       "         8597.46838  ,  8771.4039625,  8945.339545 ,  9119.2751275,\n",
       "         9293.21071  ,  9467.1462925,  9641.081875 ,  9815.0174575,\n",
       "         9988.95304  , 10162.8886225, 10336.824205 , 10510.7597875,\n",
       "        10684.69537  , 10858.6309525, 11032.566535 , 11206.5021175,\n",
       "        11380.4377   ]),\n",
       " <BarContainer object of 40 artists>)"
      ]
     },
     "execution_count": 89,
     "metadata": {},
     "output_type": "execute_result"
    },
    {
     "data": {
      "image/png": "[encoded data removed]",
      "text/plain": [
       "<Figure size 432x288 with 1 Axes>"
      ]
     },
     "metadata": {
      "needs_background": "light"
     },
     "output_type": "display_data"
    }
   ],
   "source": [
    "wind_pure_test = monteCarlo(wind_df['Incurred'])\n",
    "\n",
    "plt.hist(wind_pure_test, bins = 40)"
   ]
  },
  {
   "cell_type": "code",
   "execution_count": 90,
   "metadata": {},
   "outputs": [
    {
     "name": "stdout",
     "output_type": "stream",
     "text": [
      "The mean is : 7066.710996790016 and the median is:  6988.4860499999995\n"
     ]
    }
   ],
   "source": [
    "mean, median = meanMedian(wind_pure_test)\n",
    "\n",
    "print(\"The mean is :\", mean, \"and the median is: \", median)"
   ]
  },
  {
   "cell_type": "markdown",
   "metadata": {},
   "source": [
    "### Other Claims"
   ]
  },
  {
   "cell_type": "code",
   "execution_count": 112,
   "metadata": {},
   "outputs": [
    {
     "name": "stdout",
     "output_type": "stream",
     "text": [
      "17065.96875 -8443.28125\n",
      "$17065.97이상이 고액사고입니다.\n"
     ]
    },
    {
     "data": {
      "image/png": "[encoded data removed]",
      "text/plain": [
       "<Figure size 432x288 with 1 Axes>"
      ]
     },
     "metadata": {
      "needs_background": "light"
     },
     "output_type": "display_data"
    }
   ],
   "source": [
    "other_df.boxplot(column = 'Incurred').set_title('Other')\n",
    "\n",
    "maximum, minimum = boxsummary(other_df['Incurred'])\n",
    "\n",
    "print(maximum, minimum)\n",
    "max_v = round(maximum, 2)\n",
    "print(\"$\" + str(max_v) + \"이상이 고액사고입니다.\")"
   ]
  },
  {
   "cell_type": "code",
   "execution_count": 92,
   "metadata": {},
   "outputs": [
    {
     "data": {
      "text/plain": [
       "(array([  1.,   0.,   0.,   0.,   0.,   2.,   2.,   3.,   9.,  15.,  40.,\n",
       "         54., 101., 184., 235., 315., 426., 534., 678., 796., 816., 812.,\n",
       "        795., 813., 724., 616., 538., 426., 327., 251., 156., 113.,  88.,\n",
       "         59.,  27.,  24.,   7.,   5.,   5.,   3.]),\n",
       " array([2151.0777  , 2233.029865, 2314.98203 , 2396.934195, 2478.88636 ,\n",
       "        2560.838525, 2642.79069 , 2724.742855, 2806.69502 , 2888.647185,\n",
       "        2970.59935 , 3052.551515, 3134.50368 , 3216.455845, 3298.40801 ,\n",
       "        3380.360175, 3462.31234 , 3544.264505, 3626.21667 , 3708.168835,\n",
       "        3790.121   , 3872.073165, 3954.02533 , 4035.977495, 4117.92966 ,\n",
       "        4199.881825, 4281.83399 , 4363.786155, 4445.73832 , 4527.690485,\n",
       "        4609.64265 , 4691.594815, 4773.54698 , 4855.499145, 4937.45131 ,\n",
       "        5019.403475, 5101.35564 , 5183.307805, 5265.25997 , 5347.212135,\n",
       "        5429.1643  ]),\n",
       " <BarContainer object of 40 artists>)"
      ]
     },
     "execution_count": 92,
     "metadata": {},
     "output_type": "execute_result"
    },
    {
     "data": {
      "image/png": "[encoded data removed]",
      "text/plain": [
       "<Figure size 432x288 with 1 Axes>"
      ]
     },
     "metadata": {
      "needs_background": "light"
     },
     "output_type": "display_data"
    }
   ],
   "source": [
    "other_l = dataClean(other_df['Incurred'])\n",
    "\n",
    "other_test_list = monteCarlo(other_l)\n",
    "\n",
    "plt.hist(other_test_list, bins = 40)"
   ]
  },
  {
   "cell_type": "code",
   "execution_count": 93,
   "metadata": {},
   "outputs": [
    {
     "name": "stdout",
     "output_type": "stream",
     "text": [
      "The mean is : 3960.3741455600234 and the median is:  3951.2902000000004\n"
     ]
    }
   ],
   "source": [
    "mean, median = meanMedian(other_test_list)\n",
    "\n",
    "print(\"The mean is :\", mean, \"and the median is: \", median)"
   ]
  },
  {
   "cell_type": "code",
   "execution_count": 94,
   "metadata": {},
   "outputs": [
    {
     "data": {
      "text/plain": [
       "(array([2.200e+01, 8.400e+01, 2.460e+02, 5.480e+02, 8.170e+02, 1.069e+03,\n",
       "        1.057e+03, 9.650e+02, 8.140e+02, 6.480e+02, 5.910e+02, 5.010e+02,\n",
       "        4.400e+02, 3.990e+02, 3.810e+02, 2.580e+02, 2.320e+02, 2.130e+02,\n",
       "        1.560e+02, 1.280e+02, 8.600e+01, 8.000e+01, 5.900e+01, 4.800e+01,\n",
       "        3.900e+01, 2.800e+01, 2.600e+01, 1.500e+01, 1.200e+01, 5.000e+00,\n",
       "        1.000e+01, 4.000e+00, 5.000e+00, 8.000e+00, 3.000e+00, 0.000e+00,\n",
       "        1.000e+00, 0.000e+00, 1.000e+00, 1.000e+00]),\n",
       " array([ 3498.5351   ,  3932.4811775,  4366.427255 ,  4800.3733325,\n",
       "         5234.31941  ,  5668.2654875,  6102.211565 ,  6536.1576425,\n",
       "         6970.10372  ,  7404.0497975,  7837.995875 ,  8271.9419525,\n",
       "         8705.88803  ,  9139.8341075,  9573.780185 , 10007.7262625,\n",
       "        10441.67234  , 10875.6184175, 11309.564495 , 11743.5105725,\n",
       "        12177.45665  , 12611.4027275, 13045.348805 , 13479.2948825,\n",
       "        13913.24096  , 14347.1870375, 14781.133115 , 15215.0791925,\n",
       "        15649.02527  , 16082.9713475, 16516.917425 , 16950.8635025,\n",
       "        17384.80958  , 17818.7556575, 18252.701735 , 18686.6478125,\n",
       "        19120.59389  , 19554.5399675, 19988.486045 , 20422.4321225,\n",
       "        20856.3782   ]),\n",
       " <BarContainer object of 40 artists>)"
      ]
     },
     "execution_count": 94,
     "metadata": {},
     "output_type": "execute_result"
    },
    {
     "data": {
      "image/png": "[encoded data removed]",
      "text/plain": [
       "<Figure size 432x288 with 1 Axes>"
      ]
     },
     "metadata": {
      "needs_background": "light"
     },
     "output_type": "display_data"
    }
   ],
   "source": [
    "other_pure_test = monteCarlo(other_df['Incurred'])\n",
    "\n",
    "plt.hist(other_pure_test, bins = 40)"
   ]
  },
  {
   "cell_type": "code",
   "execution_count": 95,
   "metadata": {},
   "outputs": [
    {
     "name": "stdout",
     "output_type": "stream",
     "text": [
      "The mean is : 7622.315903769993 and the median is:  7070.6996\n"
     ]
    }
   ],
   "source": [
    "mean, median = meanMedian(other_pure_test)\n",
    "\n",
    "print(\"The mean is :\", mean, \"and the median is: \", median)"
   ]
  },
  {
   "cell_type": "code",
   "execution_count": null,
   "metadata": {},
   "outputs": [],
   "source": []
  },
  {
   "cell_type": "code",
   "execution_count": null,
   "metadata": {},
   "outputs": [],
   "source": []
  },
  {
   "cell_type": "code",
   "execution_count": null,
   "metadata": {},
   "outputs": [],
   "source": []
  },
  {
   "cell_type": "code",
   "execution_count": null,
   "metadata": {},
   "outputs": [],
   "source": []
  },
  {
   "cell_type": "code",
   "execution_count": null,
   "metadata": {},
   "outputs": [],
   "source": []
  },
  {
   "cell_type": "code",
   "execution_count": null,
   "metadata": {},
   "outputs": [],
   "source": []
  }
 ],
 "metadata": {
  "kernelspec": {
   "display_name": "Python 3",
   "language": "python",
   "name": "python3"
  },
  "language_info": {
   "codemirror_mode": {
    "name": "ipython",
    "version": 3
   },
   "file_extension": ".py",
   "mimetype": "text/x-python",
   "name": "python",
   "nbconvert_exporter": "python",
   "pygments_lexer": "ipython3",
   "version": "3.8.5"
  }
 },
 "nbformat": 4,
 "nbformat_minor": 4
}
