{
 "cells": [
  {
   "cell_type": "markdown",
   "metadata": {},
   "source": [
    "Import libraries csv, numpy and random"
   ]
  },
  {
   "cell_type": "code",
   "execution_count": 1,
   "metadata": {},
   "outputs": [],
   "source": [
    "import csv\n",
    "import numpy\n",
    "import random"
   ]
  },
  {
   "cell_type": "markdown",
   "metadata": {},
   "source": [
    "Open the given csv file, then extract file into a list except the title"
   ]
  },
  {
   "cell_type": "code",
   "execution_count": 2,
   "metadata": {},
   "outputs": [
    {
     "name": "stdout",
     "output_type": "stream",
     "text": [
      "[['Sultan Al bogami', '3949768801884845523'], ['Ioannis Batsios', '3935875508609012725'], ['Rinty Chowdhury', '1583776007752598970'], ['Jackie Cuong', '5769483329530745425'], ['William Downs', '336891139488150869'], ['Jaron Dunham', '3889088399491561781'], ['Christopher Edgecombe', '6199857640101735323'], ['Wahab Ehsan', '2518675181136625693'], ['Michael Follari', '6810089603355070317'], ['Daniel Frye', '-2809269155154333602'], ['Miguel Gaspar Utrera', '493454735766240990'], ['Seth Goodwin', '259212972574503367'], ['Jeremy Hudson', '-6272853571550332958'], ['Byungjin Kang', '-5748223395222085748'], ['Matthew Moretz', '6222526768225508173'], ['Shah Nafis Rafique', '-3883714585606695496'], ['Henry Reichard', '-2886551810478985348'], ['Jorge Salas', '455657944666492550'], ['Christopher Thacker', '-3902187348021919782'], ['Hieu Vo', '1493112895152592131'], ['Jamie Weathers', '7494716666415913531'], ['John Weber', '2836559261835779102'], ['Gabriel Wilmoth', '7677876049958771061'], ['Kun Yang', '2563187256803808469'], ['Harini Booravalli Suresh', '-4093258774299285144'], ['Daniel Foster', '6764292987690706695'], ['Rohit Reddy Gade', '-4623969955760145159'], ['lavanya Goluguri', '1711906030537001898'], ['Unnati Khivasara', '6259802738933602461'], ['Akash Meghani', '-2242847958711309170'], ['James Polk', '6866171654675246582'], ['Dimithra Ratnayake', '-1632657826008984490'], ['Naseeb Thapaliya', '-5285248223491365467'], ['Anusha Vanama', '-1797989270649470277'], ['Sahithi Vanteru', '-2799127417815973688']]\n"
     ]
    }
   ],
   "source": [
    "#import csv file and print all lines except the title(first) line\n",
    "with open ('students.csv', 'r') as csv_file:\n",
    "    csv_reader = csv.reader (csv_file)\n",
    "    \n",
    "    next(csv_reader)\n",
    "    \n",
    "    classlist = list(csv_reader)\n",
    "    \n",
    "    print (classlist)"
   ]
  },
  {
   "cell_type": "markdown",
   "metadata": {},
   "source": [
    "Set empty lists which will save members into \"team\" and restore the team into \"groups\""
   ]
  },
  {
   "cell_type": "code",
   "execution_count": 3,
   "metadata": {},
   "outputs": [],
   "source": [
    "team = []\n",
    "member = []"
   ]
  },
  {
   "cell_type": "markdown",
   "metadata": {},
   "source": [
    "Randomly select a number to determine the number of team members in each team"
   ]
  },
  {
   "cell_type": "code",
   "execution_count": 4,
   "metadata": {},
   "outputs": [
    {
     "name": "stdout",
     "output_type": "stream",
     "text": [
      "3 11\n"
     ]
    }
   ],
   "source": [
    "#randomly select a number between \n",
    "numb_team = random.randint(1, 17)\n",
    "\n",
    "numb_member = int(len(classlist)/numb_team)\n",
    "\n",
    "print (numb_team, numb_member)"
   ]
  },
  {
   "cell_type": "markdown",
   "metadata": {},
   "source": [
    "Use for-loop to generate random teams and put random members into groups"
   ]
  },
  {
   "cell_type": "code",
   "execution_count": 5,
   "metadata": {},
   "outputs": [],
   "source": [
    "for i in range (0, len(classlist)):\n",
    "    numb = random.randint (0, len(classlist)-1)\n",
    "    \n",
    "    member.append (classlist[numb])\n",
    "    classlist.remove (classlist[numb])\n",
    "    \n",
    "    #if the number of members in a team is sufficient to make a team\n",
    "    if len(member) == numb_member:\n",
    "        team.append (member)\n",
    "        member = []\n",
    "        \n",
    "    #if the generator removes all students from the list    \n",
    "    if len(classlist) == 0 and len(member) > 0:\n",
    "        team.append(member)\n",
    "        "
   ]
  },
  {
   "cell_type": "code",
   "execution_count": 6,
   "metadata": {},
   "outputs": [
    {
     "name": "stdout",
     "output_type": "stream",
     "text": [
      "[[['Shah Nafis Rafique', '-3883714585606695496'], ['Henry Reichard', '-2886551810478985348'], ['Daniel Foster', '6764292987690706695'], ['Sultan Al bogami', '3949768801884845523'], ['Naseeb Thapaliya', '-5285248223491365467'], ['Matthew Moretz', '6222526768225508173'], ['Jamie Weathers', '7494716666415913531'], ['Christopher Edgecombe', '6199857640101735323'], ['Miguel Gaspar Utrera', '493454735766240990'], ['Christopher Thacker', '-3902187348021919782'], ['Seth Goodwin', '259212972574503367']], [['Rohit Reddy Gade', '-4623969955760145159'], ['Dimithra Ratnayake', '-1632657826008984490'], ['Sahithi Vanteru', '-2799127417815973688'], ['Michael Follari', '6810089603355070317'], ['John Weber', '2836559261835779102'], ['Kun Yang', '2563187256803808469'], ['Wahab Ehsan', '2518675181136625693'], ['James Polk', '6866171654675246582'], ['Anusha Vanama', '-1797989270649470277'], ['Jackie Cuong', '5769483329530745425'], ['Jeremy Hudson', '-6272853571550332958']], [['Rinty Chowdhury', '1583776007752598970'], ['Gabriel Wilmoth', '7677876049958771061'], ['Akash Meghani', '-2242847958711309170'], ['Daniel Frye', '-2809269155154333602'], ['Harini Booravalli Suresh', '-4093258774299285144'], ['Ioannis Batsios', '3935875508609012725'], ['Byungjin Kang', '-5748223395222085748'], ['William Downs', '336891139488150869'], ['Jaron Dunham', '3889088399491561781'], ['Unnati Khivasara', '6259802738933602461'], ['Jorge Salas', '455657944666492550']], [['Hieu Vo', '1493112895152592131'], ['lavanya Goluguri', '1711906030537001898']]]\n"
     ]
    }
   ],
   "source": [
    "print (team)"
   ]
  }
 ],
 "metadata": {
  "kernelspec": {
   "display_name": "Python 3",
   "language": "python",
   "name": "python3"
  },
  "language_info": {
   "codemirror_mode": {
    "name": "ipython",
    "version": 3
   },
   "file_extension": ".py",
   "mimetype": "text/x-python",
   "name": "python",
   "nbconvert_exporter": "python",
   "pygments_lexer": "ipython3",
   "version": "3.7.4"
  }
 },
 "nbformat": 4,
 "nbformat_minor": 2
}
